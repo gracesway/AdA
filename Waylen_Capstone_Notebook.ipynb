{
  "cells": [
    {
      "cell_type": "markdown",
      "metadata": {
        "id": "view-in-github",
        "colab_type": "text"
      },
      "source": [
        "<a href=\"https://colab.research.google.com/github/gracesway/AdA/blob/master/Waylen_Capstone_Notebook.ipynb\" target=\"_parent\"><img src=\"https://colab.research.google.com/assets/colab-badge.svg\" alt=\"Open In Colab\"/></a>"
      ]
    },
    {
      "cell_type": "code",
      "execution_count": 3,
      "id": "8b7e5a68",
      "metadata": {
        "id": "8b7e5a68",
        "cellView": "form"
      },
      "outputs": [],
      "source": [
        "#@title Click here to create a histogram of the data\n",
        "%%capture\n",
        "import sys\n",
        "!{sys.executable} -m pip install numpy \n",
        "#!{sys.executable} -m pip install pandas \n",
        "#!{sys.executable} -m pip install matplotlib \n",
        "#!{sys.executable} -m pip install scipy\n",
        "import numpy as np\n",
        "import pandas as pd\n",
        "import matplotlib.pyplot as ptl\n",
        "import scipy.stats as st\n",
        "training_data = pd.read_csv(\"TRAINING DATA.csv\")\n",
        "test_data = pd.read_csv(\"TEST Data.csv\")\n",
        "MealDataL = [training_data, test_data]\n",
        "MealData = pd.concat(MealDataL)\n",
        "# Summary Statistic Counters\n",
        "count_true = 0\n",
        "count_false = 0\n",
        "count = 0\n",
        "test_actual = 0\n",
        "test_predict = 0\n",
        "\n",
        "\n"
      ]
    },
    {
      "cell_type": "code",
      "source": [
        "correlation_matrix = MealData.corr()\n",
        "correlation_matrix[\"TotalMeals\"]"
      ],
      "metadata": {
        "id": "S-Q6qt4f2YiS",
        "colab": {
          "base_uri": "https://localhost:8080/"
        },
        "outputId": "8f91dc10-c756-4b56-f907-08f9bfe53569"
      },
      "id": "S-Q6qt4f2YiS",
      "execution_count": 4,
      "outputs": [
        {
          "output_type": "execute_result",
          "data": {
            "text/plain": [
              "Case#                0.037760\n",
              "TotalMeals           1.000000\n",
              "UniversalMeals       0.101196\n",
              "TotalEnrolled        0.493281\n",
              "FR                   0.628131\n",
              "TraditionalSchool    0.185107\n",
              "PublicSchool         0.099000\n",
              "FRP                  0.616693\n",
              "Unnamed: 9           0.113297\n",
              "Name: TotalMeals, dtype: float64"
            ]
          },
          "metadata": {},
          "execution_count": 4
        }
      ]
    },
    {
      "cell_type": "code",
      "execution_count": 6,
      "id": "2c549979",
      "metadata": {
        "id": "2c549979",
        "colab": {
          "base_uri": "https://localhost:8080/",
          "height": 265
        },
        "outputId": "5f80f1fa-004c-453e-bdd3-648fc3eb7151"
      },
      "outputs": [
        {
          "output_type": "display_data",
          "data": {
            "text/plain": [
              "<Figure size 432x288 with 1 Axes>"
            ],
            "image/png": "[encoded data removed]"
          },
          "metadata": {
            "needs_background": "light"
          }
        }
      ],
      "source": [
        "MealData[\"TotalMeals\"].hist(bins =1000)\n",
        "ptl.show()"
      ]
    },
    {
      "cell_type": "code",
      "source": [
        "sample_size_future = input(\"Please select a sample size:\")"
      ],
      "metadata": {
        "colab": {
          "base_uri": "https://localhost:8080/"
        },
        "id": "nNoTtzbU3jVD",
        "outputId": "04b728fb-e740-4a1b-fc33-9bf4d12de415"
      },
      "id": "nNoTtzbU3jVD",
      "execution_count": 7,
      "outputs": [
        {
          "name": "stdout",
          "output_type": "stream",
          "text": [
            "Please select a sample size:50\n"
          ]
        }
      ]
    },
    {
      "cell_type": "code",
      "source": [
        "sample_size = int(sample_size_future)\n",
        "test = test_data.sample(sample_size)\n",
        "test[\"TotalMeals\"].hist(bins = int(sample_size/10))\n",
        "ptl.show()"
      ],
      "metadata": {
        "colab": {
          "base_uri": "https://localhost:8080/",
          "height": 265
        },
        "id": "xAb6iQOy3m0k",
        "outputId": "38703798-e332-4598-c441-e3467ea9e142"
      },
      "id": "xAb6iQOy3m0k",
      "execution_count": 9,
      "outputs": [
        {
          "output_type": "display_data",
          "data": {
            "text/plain": [
              "<Figure size 432x288 with 1 Axes>"
            ],
            "image/png": "[encoded data removed]"
          },
          "metadata": {
            "needs_background": "light"
          }
        }
      ]
    },
    {
      "cell_type": "code",
      "source": [
        "for row in test.itertuples():\n",
        "    # set the filters for meal and school type\n",
        "    mealt = row[2]\n",
        "    stype = row[9]\n",
        "\n",
        "    # Get the training data\n",
        "    meals = pd.read_csv(\"TRAINING DATA.csv\")\n",
        "    # Filter the training dta\n",
        "    meals = meals[(meals['Meal'] == mealt)]\n",
        "    meals = meals[(meals['SchoolType'] == stype)]\n",
        "    # Drop unnecessary fields\n",
        "    meals = meals.drop('Case#', axis=1)\n",
        "    meals = meals.drop('Meal', axis=1)\n",
        "    meals = meals.drop('SchoolType', axis=1)\n",
        "\n",
        "    # Create points for distance calculation\n",
        "    X = meals.drop(\"TotalMeals\", axis=1)\n",
        "    X = X.values\n",
        "    y = meals[\"TotalMeals\"]\n",
        "    y = y.values\n",
        "\n",
        "    # Add the data point to be tested\n",
        "    new_data_point = np.array([row[4], row[5], row[6], row[7], row[8]])\n",
        "    distances = np.linalg.norm(X-new_data_point, axis=1)\n",
        "\n",
        "    # Set K Value and find nearest neighbors\n",
        "    K = 4\n",
        "    nn = distances.argsort()[:K]\n",
        "    nn_totalmeals = y[nn]\n",
        "    nn_average = nn_totalmeals.mean()\n",
        "\n",
        "    # Create a 99% CI\n",
        "    interval = st.t.interval(alpha=0.99, df=(K-1), loc=np.mean(nn_totalmeals), scale=st.sem(nn_totalmeals))\n",
        "\n",
        "    # See if the actual number of meals from test fits into the 99% CI\n",
        "    if float(interval[0]) <= float(row[3]) <= float(interval[1]):\n",
        "        count_true += 1\n",
        "    count += 1\n",
        "    print(count)\n",
        "    test_actual += float(row[3])\n",
        "    test_predict += nn_average\n",
        "\n",
        "# Print summary Statistics\n",
        "print(\"Accurate CI:\" + str(count_true))\n",
        "print(\"% Accurate: \" + str(round((count_true/count)*100,2)) + \"%\")\n",
        "print(\"Actual: \" + str(test_actual))\n",
        "print(\"predicted: \" + str(test_predict))\n",
        "difference = abs(test_actual - test_predict)\n",
        "print(round((test_actual-difference)/test_actual*100,2))"
      ],
      "metadata": {
        "colab": {
          "base_uri": "https://localhost:8080/"
        },
        "id": "rXx2Kgxj30fU",
        "outputId": "fe26d178-4e79-48a6-d479-594f89d9c184"
      },
      "id": "rXx2Kgxj30fU",
      "execution_count": 10,
      "outputs": [
        {
          "output_type": "stream",
          "name": "stdout",
          "text": [
            "1\n",
            "2\n",
            "3\n",
            "4\n",
            "5\n",
            "6\n",
            "7\n",
            "8\n",
            "9\n",
            "10\n",
            "11\n",
            "12\n",
            "13\n",
            "14\n",
            "15\n",
            "16\n",
            "17\n",
            "18\n",
            "19\n",
            "20\n",
            "21\n",
            "22\n",
            "23\n",
            "24\n",
            "25\n",
            "26\n",
            "27\n",
            "28\n",
            "29\n",
            "30\n",
            "31\n",
            "32\n",
            "33\n",
            "34\n",
            "35\n",
            "36\n",
            "37\n",
            "38\n",
            "39\n",
            "40\n",
            "41\n",
            "42\n",
            "43\n",
            "44\n",
            "45\n",
            "46\n",
            "47\n",
            "48\n",
            "49\n",
            "50\n",
            "Accurate CI:47\n",
            "% Accurate: 94.0%\n",
            "Actual: 1287467.0\n",
            "predicted: 1200604.5\n",
            "93.25\n"
          ]
        }
      ]
    }
  ],
  "metadata": {
    "kernelspec": {
      "display_name": "Python 3 (ipykernel)",
      "language": "python",
      "name": "python3"
    },
    "language_info": {
      "codemirror_mode": {
        "name": "ipython",
        "version": 3
      },
      "file_extension": ".py",
      "mimetype": "text/x-python",
      "name": "python",
      "nbconvert_exporter": "python",
      "pygments_lexer": "ipython3",
      "version": "3.10.7"
    },
    "colab": {
      "provenance": [],
      "include_colab_link": true
    }
  },
  "nbformat": 4,
  "nbformat_minor": 5
}